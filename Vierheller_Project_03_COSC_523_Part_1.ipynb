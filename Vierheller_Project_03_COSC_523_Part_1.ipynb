{
  "cells": [
    {
      "cell_type": "markdown",
      "metadata": {
        "id": "8f5acdb8-8216-4671-b39c-dd585763c3ca"
      },
      "source": [
        "# COSC-523: Project 03: Understanding Neural Networks\n",
        "\n",
        "**Matthew Vierheller**\n",
        "\n",
        "[PLACEHOLDER_FOR_NOTEBOOK_LINK]\n"
      ]
    },
    {
      "cell_type": "markdown",
      "metadata": {
        "id": "UjLouaSCDtoO"
      },
      "source": [
        "## Getting Started\n",
        "\n",
        "Follow the instructions below to copy this notebook and to perform some initial setup.\n",
        "\n",
        "1. Copy this notebook by selecting `File > Save a copy in Drive`.\n",
        "2. A new window should open for the copied notebook. Move the new notebook to your course folder in Google Drive by selecting `File > Move` and then selecting the desired folder.\n",
        "3. Update the name of the notebook by removing \"Copy of\" and replacing \"Username\" with your actual username.\n",
        "4. Update the first cell in the notebook by specifying your course number (423 or 523) and by replacing \"**Student Name**\" with your actual name.\n",
        "5. Do not edit the line that says `PLACEHOLDER_FOR_NOTEBOOK_LINK`. This will be used by the [Notebook Renderer](https://colab.research.google.com/drive/1CJTipys46ldZxJFwnt7XbdjQUfkmoXeU?usp=sharing) tool to insert a link to your Colab notebook.\n",
        "6. Enable link sharing for your notebook."
      ]
    },
    {
      "cell_type": "markdown",
      "metadata": {
        "id": "edef32b8-886f-4e07-9713-e39eafe8f24a",
        "tags": []
      },
      "source": [
        "# Task 1:\n",
        "\n",
        "<a href=\"https://mattmazur.com/2015/03/17/a-step-by-step-backpropagation-example/\" target=\"_blank\">Click here to see \"Backpropagation by Hand\"</a>\n",
        "\n",
        "The article above shows use a neural network with two inputs, two hidden neurons, two output neurons. Additionally, the hidden and output neurons  include a bias. <br><br>\n",
        "The writer uses some initial weights and bias values and demonstrates through calculations how different weights get updated. It is an excellent way to understand backpropagation.<br><br>\n",
        "For this task, please caluclate the weight w5+ (if you scroll down the steps you will see the equations and w5 is the first updated weight he calculates).<br><br>\n",
        "\n",
        "Here are your initial values:<br>\n",
        "i1 (input 1): 0.05<br>\n",
        "i2 (input 2): 0.10<br>\n",
        "w1 (weight 1): 0.15<br>\n",
        "w2 (weight 2): 0.20<br>\n",
        "w3 (weight 3): 0.25<br>\n",
        "w4 (weight 4): 0.30<br>\n",
        "b1 (bias 1): 0.35<br>\n",
        "w5 (weight 5): 0.40<br>\n",
        "w6 (weight 6): 0.45<br>\n",
        "w7 (weight 7): 0.50<br>\n",
        "w8 (weight 8) 0.55<br>\n",
        "b2 (bias 2): 0.60<br>\n",
        "\n",
        "Please do the calculations by hand and:<br>\n",
        "1. Upload your work as a PDF (you can use Camscanner app to turn your work into a pdf<br>\n",
        "2. Mention in a comment below what was your w5+ value."
      ]
    },
    {
      "cell_type": "code",
      "source": [
        "import math"
      ],
      "metadata": {
        "id": "oXyehQkQKQs6"
      },
      "execution_count": null,
      "outputs": []
    },
    {
      "cell_type": "code",
      "source": [
        "def net_hidden(w_1, i_1, w_2, i_2, b):\n",
        "  net_calc = (w_1*i_1)+(w_2*i_2)+(b*1)\n",
        "  return net_calc"
      ],
      "metadata": {
        "id": "du5IOX2xKNHz"
      },
      "execution_count": null,
      "outputs": []
    },
    {
      "cell_type": "code",
      "source": [
        "net_h1 = net_hidden(.15,.05,.2,.1,.35)\n",
        "print(net_h1)\n",
        "net_h2 = net_hidden(.25,.05,.3,.1, .35)\n",
        "print(round(net_h2,4))"
      ],
      "metadata": {
        "colab": {
          "base_uri": "https://localhost:8080/"
        },
        "id": "PWCTI0coKs00",
        "outputId": "fe8000ca-c55a-41fc-cd4a-3ff8f39776f5"
      },
      "execution_count": null,
      "outputs": [
        {
          "output_type": "stream",
          "name": "stdout",
          "text": [
            "0.3775\n",
            "0.3925\n"
          ]
        }
      ]
    },
    {
      "cell_type": "code",
      "source": [
        "def find_output(net_h):\n",
        "  output = 1/(1+(math.e**(-net_h)))\n",
        "  return output"
      ],
      "metadata": {
        "id": "QAsYuCKbMMLN"
      },
      "execution_count": null,
      "outputs": []
    },
    {
      "cell_type": "code",
      "source": [
        "output_h1 = find_output(net_h1)\n",
        "output_h2 = find_output(net_h2)\n",
        "\n",
        "print(f'Output H1 = {round(output_h1,4)}')\n",
        "print(f'Ouptut H2 = {round(output_h2,4)}')"
      ],
      "metadata": {
        "colab": {
          "base_uri": "https://localhost:8080/"
        },
        "id": "q7_Prv69Mfdn",
        "outputId": "e7e83907-e20f-470a-ad4b-c7e7c6b8cccd"
      },
      "execution_count": null,
      "outputs": [
        {
          "output_type": "stream",
          "name": "stdout",
          "text": [
            "Output H1 = 0.5933\n",
            "Ouptut H2 = 0.5969\n"
          ]
        }
      ]
    },
    {
      "cell_type": "code",
      "source": [
        "net_o1 = net_hidden(.4,.5933,.45,.5969, .6)\n",
        "net_o2 = net_hidden(.5, .5933, .55, .5969, .6)\n",
        "\n",
        "print(f'net o1: {round(net_o1,4)}')\n",
        "print(f'net o2: {round(net_o2,4)}')"
      ],
      "metadata": {
        "colab": {
          "base_uri": "https://localhost:8080/"
        },
        "id": "aVdskwpZOr96",
        "outputId": "5e0fb0e8-3c44-42f6-a576-2eef698fafb3"
      },
      "execution_count": null,
      "outputs": [
        {
          "output_type": "stream",
          "name": "stdout",
          "text": [
            "net o1: 1.1059\n",
            "net o2: 1.2249\n"
          ]
        }
      ]
    },
    {
      "cell_type": "code",
      "source": [
        "o1 = find_output(net_o1)\n",
        "o2 = find_output(net_o2)\n",
        "\n",
        "print(f'O1: {round(o1,4)}')\n",
        "print(f'O2: {round(o2,4)}')"
      ],
      "metadata": {
        "colab": {
          "base_uri": "https://localhost:8080/"
        },
        "id": "vCqx3QGeOr0h",
        "outputId": "401f848b-0017-4206-9cfa-946856203ecd"
      },
      "execution_count": null,
      "outputs": [
        {
          "output_type": "stream",
          "name": "stdout",
          "text": [
            "O1: 0.7514\n",
            "O2: 0.7729\n"
          ]
        }
      ]
    },
    {
      "cell_type": "code",
      "source": [
        "def error(target, output):\n",
        "  error = .5*((target-output)**2)\n",
        "  return round(error,4)"
      ],
      "metadata": {
        "id": "YSGemQk4Orpq"
      },
      "execution_count": null,
      "outputs": []
    },
    {
      "cell_type": "code",
      "source": [
        "e1 = error(.01,o1)\n",
        "e2 = error(.99,o2)\n",
        "\n",
        "print(f'e1: {e1}')\n",
        "print(f'e2: {e2}')"
      ],
      "metadata": {
        "colab": {
          "base_uri": "https://localhost:8080/"
        },
        "id": "bElBvw5SSI7M",
        "outputId": "bf6fad4f-a8b9-48c6-8f17-9733e21d4ca9"
      },
      "execution_count": null,
      "outputs": [
        {
          "output_type": "stream",
          "name": "stdout",
          "text": [
            "e1: 0.2748\n",
            "e2: 0.0236\n"
          ]
        }
      ]
    },
    {
      "cell_type": "code",
      "source": [
        "total_e = e1+e2\n",
        "print(total_e)"
      ],
      "metadata": {
        "colab": {
          "base_uri": "https://localhost:8080/"
        },
        "id": "ubRQaudZSIvk",
        "outputId": "c665f548-d5c4-4e36-907a-bed909d1dae2"
      },
      "execution_count": null,
      "outputs": [
        {
          "output_type": "stream",
          "name": "stdout",
          "text": [
            "0.2984\n"
          ]
        }
      ]
    },
    {
      "cell_type": "code",
      "source": [
        "target_1 = .01\n",
        "target_2 = .99"
      ],
      "metadata": {
        "id": "Wbwzz9EncU5W"
      },
      "execution_count": null,
      "outputs": []
    },
    {
      "cell_type": "code",
      "source": [
        "pos_out_neg_tar = -(target_1 - o1)\n",
        "pos_out_neg_tar"
      ],
      "metadata": {
        "colab": {
          "base_uri": "https://localhost:8080/"
        },
        "id": "NyrUpEM-SIgJ",
        "outputId": "b08f386b-76ad-48db-e955-f43fe2c036ef"
      },
      "execution_count": null,
      "outputs": [
        {
          "output_type": "execute_result",
          "data": {
            "text/plain": [
              "0.7413686251854879"
            ]
          },
          "metadata": {},
          "execution_count": 12
        }
      ]
    },
    {
      "cell_type": "code",
      "source": [
        "out_o1_over_net_o1 = o1*(1-o1)\n",
        "out_o1_over_net_o1"
      ],
      "metadata": {
        "colab": {
          "base_uri": "https://localhost:8080/"
        },
        "id": "WmCc2WypSIX7",
        "outputId": "956dd5a8-b06c-4eab-d818-bbba68ca28e0"
      },
      "execution_count": null,
      "outputs": [
        {
          "output_type": "execute_result",
          "data": {
            "text/plain": [
              "0.18681381427235771"
            ]
          },
          "metadata": {},
          "execution_count": 13
        }
      ]
    },
    {
      "cell_type": "code",
      "source": [
        "net_h1_over_w5 = 1* output_h1 * (.4**(1-1)) + 0 + 0\n",
        "net_h1_over_w5"
      ],
      "metadata": {
        "colab": {
          "base_uri": "https://localhost:8080/"
        },
        "id": "_yvS_GT-id4I",
        "outputId": "a87f7171-3cbe-4431-dc32-9ea81c8bd819"
      },
      "execution_count": null,
      "outputs": [
        {
          "output_type": "execute_result",
          "data": {
            "text/plain": [
              "0.5932699921071872"
            ]
          },
          "metadata": {},
          "execution_count": 14
        }
      ]
    },
    {
      "cell_type": "code",
      "source": [
        "e_total_over_w5 = pos_out_neg_tar * out_o1_over_net_o1 * net_h1_over_w5\n",
        "e_total_over_w5"
      ],
      "metadata": {
        "colab": {
          "base_uri": "https://localhost:8080/"
        },
        "id": "_5QDebQQiduv",
        "outputId": "c03fc120-bf2d-4dfa-f414-b46ae9962625"
      },
      "execution_count": null,
      "outputs": [
        {
          "output_type": "execute_result",
          "data": {
            "text/plain": [
              "0.0821666484271219"
            ]
          },
          "metadata": {},
          "execution_count": 15
        }
      ]
    },
    {
      "cell_type": "code",
      "source": [
        "new_w5 = .4 - .5 * e_total_over_w5\n",
        "new_w5"
      ],
      "metadata": {
        "colab": {
          "base_uri": "https://localhost:8080/"
        },
        "id": "xXf47ukoidni",
        "outputId": "67982a4f-5707-4af0-f51c-95261c9471a9"
      },
      "execution_count": null,
      "outputs": [
        {
          "output_type": "execute_result",
          "data": {
            "text/plain": [
              "0.35891667578643904"
            ]
          },
          "metadata": {},
          "execution_count": 16
        }
      ]
    },
    {
      "cell_type": "code",
      "source": [
        "# My w5+ value is :0.35891667578643904"
      ],
      "metadata": {
        "id": "wotLLExUO3Y5"
      },
      "execution_count": null,
      "outputs": []
    },
    {
      "cell_type": "markdown",
      "metadata": {
        "id": "1HW_tpnTHbiQ"
      },
      "source": [
        "# Submission Instructions\n",
        "\n",
        "1. Perform a Restart and Run All by clicking **Tools > Restart session and run all**.\n",
        "2. Copy the link to your notebook by clicking **Share > Copy Link**.\n",
        "3. Paste the copied link into the `notebook_url` field in the [Notebook Renderer](https://colab.research.google.com/drive/1CJTipys46ldZxJFwnt7XbdjQUfkmoXeU?usp=sharing) tool and then execute the cell to render the notebook.\n",
        "4. The Notebook Renderer will open up a save file dialog. Save the resulting HTML file yo your local machine.\n",
        "5. Submit the HTML file to Canvas.\n"
      ]
    }
  ],
  "metadata": {
    "colab": {
      "provenance": []
    },
    "kernelspec": {
      "display_name": "Python 3 (ipykernel)",
      "language": "python",
      "name": "python3"
    },
    "language_info": {
      "codemirror_mode": {
        "name": "ipython",
        "version": 3
      },
      "file_extension": ".py",
      "mimetype": "text/x-python",
      "name": "python",
      "nbconvert_exporter": "python",
      "pygments_lexer": "ipython3",
      "version": "3.11.4"
    }
  },
  "nbformat": 4,
  "nbformat_minor": 0
}